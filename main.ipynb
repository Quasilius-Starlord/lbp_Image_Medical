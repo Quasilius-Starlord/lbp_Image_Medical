{
 "cells": [
  {
   "cell_type": "code",
   "execution_count": 1,
   "id": "5e74a0da",
   "metadata": {},
   "outputs": [],
   "source": [
    "from skimage import feature\n",
    "import numpy as np"
   ]
  },
  {
   "cell_type": "code",
   "execution_count": 2,
   "id": "9dbade6a",
   "metadata": {},
   "outputs": [
    {
     "name": "stdout",
     "output_type": "stream",
     "text": [
      "D:\\brain tumor\\brain_tumor_dataset\\no\n",
      "D:\\brain tumor\\brain_tumor_dataset\\yes\n"
     ]
    }
   ],
   "source": [
    "import os\n",
    "path_yes = os.path.join(os.getcwd(),'brain_tumor_dataset','yes')\n",
    "path_no = os.path.join(os.getcwd(),'brain_tumor_dataset','no')\n",
    "\n",
    "classes={'no_tumor':0,'has_tumor':1}\n",
    "print(path_no)\n",
    "print(path_yes)"
   ]
  },
  {
   "cell_type": "code",
   "execution_count": 3,
   "id": "70b4cf43",
   "metadata": {},
   "outputs": [],
   "source": [
    "import cv2\n",
    "X=[]\n",
    "Y=[]\n",
    "for i in os.listdir(path_no):\n",
    "    img=cv2.imread(path_no+'/'+i)\n",
    "    img = cv2.cvtColor(img,cv2.COLOR_BGR2GRAY)\n",
    "    img=cv2.resize(img,(200,200))\n",
    "    X.append(img)\n",
    "    Y.append(0)\n",
    "for i in os.listdir(path_yes):\n",
    "    img=cv2.imread(path_yes+'/'+i)\n",
    "    img = cv2.cvtColor(img,cv2.COLOR_BGR2GRAY)\n",
    "    img=cv2.resize(img,(200,200))\n",
    "    X.append(img)\n",
    "    Y.append(1)"
   ]
  },
  {
   "cell_type": "code",
   "execution_count": 4,
   "id": "8480cafd",
   "metadata": {},
   "outputs": [
    {
     "data": {
      "text/plain": [
       "((202, 200, 200), (51, 200, 200))"
      ]
     },
     "execution_count": 4,
     "metadata": {},
     "output_type": "execute_result"
    }
   ],
   "source": [
    "from sklearn.model_selection import train_test_split\n",
    "\n",
    "X=np.array(X)\n",
    "Y=np.array(Y)\n",
    "\n",
    "x_training, x_testing, y_training, y_testing = train_test_split(X, Y, random_state=10, test_size=.2)\n",
    "\n",
    "x_training.shape, x_testing.shape"
   ]
  },
  {
   "cell_type": "code",
   "execution_count": 5,
   "id": "e59678cc",
   "metadata": {},
   "outputs": [],
   "source": [
    "def get_pixel(img, center, x, y):\n",
    "\n",
    "    new_value = 0\n",
    "\n",
    "    try:\n",
    "        if img[x][y] in range(center-10,center+10):\n",
    "            new_value=1\n",
    "    except:\n",
    "        pass\n",
    "    return new_value"
   ]
  },
  {
   "cell_type": "code",
   "execution_count": 6,
   "id": "44a28093",
   "metadata": {},
   "outputs": [],
   "source": [
    "def lbp_calculated_pixel(img, x, y):\n",
    "\n",
    "    center = img[x][y]\n",
    "\n",
    "    val_ar = []\n",
    "\n",
    "    # top_left\n",
    "    val_ar.append(get_pixel(img, center, x-1, y-1))\n",
    "\n",
    "    # top\n",
    "    val_ar.append(get_pixel(img, center, x-1, y))\n",
    "\n",
    "    # top_right\n",
    "    val_ar.append(get_pixel(img, center, x-1, y + 1))\n",
    "\n",
    "    # right\n",
    "    val_ar.append(get_pixel(img, center, x, y + 1))\n",
    "\n",
    "    # bottom_right\n",
    "    val_ar.append(get_pixel(img, center, x + 1, y + 1))\n",
    "\n",
    "    # bottom\n",
    "    val_ar.append(get_pixel(img, center, x + 1, y))\n",
    "\n",
    "    # bottom_left\n",
    "    val_ar.append(get_pixel(img, center, x + 1, y-1))\n",
    "\n",
    "    # left\n",
    "    val_ar.append(get_pixel(img, center, x, y-1))\n",
    "\n",
    "    # Now, we need to convert binary\n",
    "    # values to decimal\n",
    "    power_val = [128, 64, 32, 16, 8, 4, 2, 1]\n",
    "\n",
    "    val = 0\n",
    "\n",
    "    for i in range(len(val_ar)):\n",
    "        val += val_ar[i] * power_val[i]\n",
    "\n",
    "    return val\n"
   ]
  },
  {
   "cell_type": "code",
   "execution_count": 7,
   "id": "890dcf42",
   "metadata": {},
   "outputs": [],
   "source": [
    "def getLBPGrid(img_gray ,width, height):\n",
    "    img_lbp = np.zeros((height, width),np.uint8)\n",
    "    for i in range(1,height-1):\n",
    "        for j in range(1,width-1):\n",
    "            img_lbp[i,j]=lbp_calculated_pixel(img_gray,i,j)\n",
    "    return img_lbp"
   ]
  },
  {
   "cell_type": "code",
   "execution_count": 8,
   "id": "488a9861",
   "metadata": {},
   "outputs": [],
   "source": [
    "def make_histogram(img_gray ,width, height):\n",
    "    img_lbp = getLBPGrid(img_gray,width, height)\n",
    "    hist=np.zeros(256,np.uint8)\n",
    "    for i in range(1,height):\n",
    "        for j in range(1,width):\n",
    "            hist[img_lbp[i,j]]+=1\n",
    "    return hist"
   ]
  },
  {
   "cell_type": "code",
   "execution_count": 9,
   "id": "caa63eeb",
   "metadata": {},
   "outputs": [
    {
     "name": "stdout",
     "output_type": "stream",
     "text": [
      "[243 140 144  35 154  29  35  26 142  39  28  10  40  27  17  49 169 121\n",
      "  41  58  30  22  32  56  27  68  11  10  37  54  57 246 135  37 114  27\n",
      "  41   2  23  13  22   3   7   3   8   4  10   8  44  69  22  47  29   7\n",
      "  42  43  27  16  11   5  51  16  81 163 148  32  42  36 155  18  52  41\n",
      "  38   7   6   3  41   3  17  13  17  15   3   4  12   3   5   7  18   6\n",
      "   1   2  46  12  17  56  30  29  13  49  37   2  35  44   9   4   4   1\n",
      "  13   3   3  13  33  51  11  39  47  18  35 113  65  23   7  19  87  67\n",
      " 162 249 141  36  26  20  39  33  14  51 176  32  20  11  35  44  13 104\n",
      "  52  50   6  16   6   6   4  11  23  32   2  11  15  53   5 153  22   8\n",
      "  12  10   3   4   2  11  18   1   0   3   4   0   1   5  16  17   3   6\n",
      "   3   4   2  25   9   6   3   6   6  15   8  71  28  36   8  52  52  54\n",
      "  15  67  30  15   1  15  48  45  17 211  23  48   3  20   5   9   5  56\n",
      "  47  50   4  11  49 111  15  68  26  51  18  80  12  12  12 164  12   8\n",
      "   2  11   3  18   2  82  52 229   8 146  27  59  17  41 111 161   7  62\n",
      " 190  32  67 159]\n"
     ]
    }
   ],
   "source": [
    "hist_mine=make_histogram(x_training[0],width=200,height=200)\n",
    "print(hist_mine)"
   ]
  },
  {
   "cell_type": "markdown",
   "id": "4e1e4016",
   "metadata": {},
   "source": [
    "# Data Visualization"
   ]
  },
  {
   "cell_type": "code",
   "execution_count": 10,
   "id": "cd135218",
   "metadata": {},
   "outputs": [
    {
     "data": {
      "text/plain": [
       "array([[0, 0, 0, ..., 0, 0, 0],\n",
       "       [0, 0, 0, ..., 0, 0, 0],\n",
       "       [0, 0, 0, ..., 0, 0, 0],\n",
       "       ...,\n",
       "       [0, 0, 0, ..., 0, 0, 0],\n",
       "       [0, 0, 0, ..., 0, 0, 0],\n",
       "       [0, 0, 0, ..., 0, 0, 0]], dtype=uint8)"
      ]
     },
     "execution_count": 10,
     "metadata": {},
     "output_type": "execute_result"
    },
    {
     "data": {
      "image/png": "[encoded data removed]",
      "text/plain": [
       "<Figure size 432x288 with 1 Axes>"
      ]
     },
     "metadata": {
      "needs_background": "light"
     },
     "output_type": "display_data"
    }
   ],
   "source": [
    "import matplotlib.pyplot as plt\n",
    "plt.imshow(x_training[0],cmap='gray')\n",
    "x_training[0]"
   ]
  },
  {
   "cell_type": "code",
   "execution_count": 11,
   "id": "39913711",
   "metadata": {},
   "outputs": [
    {
     "data": {
      "text/plain": [
       "array([255., 255., 255., 255., 255., 255., 255., 255., 255., 255., 255.,\n",
       "       255., 255., 255., 127., 255., 255., 127., 255., 255., 127., 127.,\n",
       "        64.,  64., 255., 255., 128., 255., 255., 192., 128., 128., 128.,\n",
       "       128.,  64.,  64., 213.,   1.,  35., 113., 116., 165., 130., 111.,\n",
       "         0., 130., 122., 128., 256., 187., 256.,  37., 256., 223., 127.,\n",
       "         0.,  30., 256.,  37., 128.,  90.,  37., 256.,  57., 162., 125.,\n",
       "        96.,  94., 108.,  99.,  70., 142., 182.,  64.,  70., 197., 221.,\n",
       "       255., 255.,  57.,   0., 162., 255., 147., 118., 112., 119., 139.,\n",
       "       166., 168., 181.,  72., 187., 164.,  10.,   0., 256., 141., 174.,\n",
       "        94.,  86., 161., 140., 174.,   0., 256.,  64.,  90., 152., 182.,\n",
       "       123.,  86.,  82.,  88., 108.,  70., 178., 255., 178., 166.,  68.,\n",
       "       256.,  34., 146.,  64., 136., 108., 105., 256.,  82., 118., 115.,\n",
       "       111., 103., 140.,  90.,  48.,  22.,   0.,  10.,  43., 133., 130.,\n",
       "       255., 256., 195.,  10., 126., 151., 255., 125.,  85.,  55., 113.,\n",
       "       205., 147., 130., 142., 129.,   0., 117., 137., 148., 189., 256.,\n",
       "       255., 145.,   0., 160., 255., 216., 155., 255., 255., 255., 255.,\n",
       "       255., 255., 255., 255., 255., 192., 128., 128.,  64., 100., 255.,\n",
       "       255., 255., 255., 255., 255., 255., 255., 255., 255., 255., 255.,\n",
       "       255., 255.])"
      ]
     },
     "execution_count": 11,
     "metadata": {},
     "output_type": "execute_result"
    }
   ],
   "source": [
    "test = x_training[0]\n",
    "lbp=feature.local_binary_pattern(test,255,1,method='uniform')\n",
    "lbp[50]"
   ]
  },
  {
   "cell_type": "code",
   "execution_count": 12,
   "id": "c0d7d9b9",
   "metadata": {},
   "outputs": [
    {
     "data": {
      "image/png": "[encoded data removed]",
      "text/plain": [
       "<Figure size 432x288 with 1 Axes>"
      ]
     },
     "metadata": {
      "needs_background": "light"
     },
     "output_type": "display_data"
    }
   ],
   "source": [
    "plt.hist(hist_mine,bins=256)\n",
    "plt.show()"
   ]
  },
  {
   "cell_type": "code",
   "execution_count": null,
   "id": "2dc6f8d1",
   "metadata": {},
   "outputs": [],
   "source": [
    "hist_set=[]\n",
    "label_set=[]\n",
    "for i in range(len(x_training)):\n",
    "    hist_mine=make_histogram(x_training[i],200,200)\n",
    "    hist_set.append(hist_mine)\n",
    "    label_set.append(y_training[i])"
   ]
  },
  {
   "cell_type": "code",
   "execution_count": null,
   "id": "d5c73004",
   "metadata": {},
   "outputs": [],
   "source": [
    "from sklearn.linear_model import LogisticRegression"
   ]
  },
  {
   "cell_type": "markdown",
   "id": "b8d061de",
   "metadata": {},
   "source": [
    "# Training model"
   ]
  },
  {
   "cell_type": "code",
   "execution_count": null,
   "id": "e981ce24",
   "metadata": {},
   "outputs": [],
   "source": [
    "model=LogisticRegression(C=0.1,max_iter=1000)\n",
    "model.fit(hist_set,label_set)"
   ]
  },
  {
   "cell_type": "code",
   "execution_count": null,
   "id": "d2aa22f0",
   "metadata": {},
   "outputs": [],
   "source": [
    "np.where(y_training==1)"
   ]
  },
  {
   "cell_type": "code",
   "execution_count": null,
   "id": "4efff1ae",
   "metadata": {},
   "outputs": [],
   "source": [
    "positiveIndex=np.where(y_training==1)[0][0]"
   ]
  },
  {
   "cell_type": "code",
   "execution_count": null,
   "id": "90eef419",
   "metadata": {},
   "outputs": [],
   "source": [
    "positiveIndex"
   ]
  },
  {
   "cell_type": "code",
   "execution_count": null,
   "id": "d95a0d0c",
   "metadata": {},
   "outputs": [],
   "source": [
    "lbpgrid=getLBPGrid(img_gray=x_training[positiveIndex],width=200,height=200)"
   ]
  },
  {
   "cell_type": "code",
   "execution_count": null,
   "id": "65aea81d",
   "metadata": {},
   "outputs": [],
   "source": [
    "lbpgrid\n",
    "\n",
    "plt.imshow(x_training[positiveIndex],cmap='gray')"
   ]
  },
  {
   "cell_type": "code",
   "execution_count": null,
   "id": "9860c064",
   "metadata": {},
   "outputs": [],
   "source": [
    "given_lbp=feature.local_binary_pattern(x_training[positiveIndex],256,1,method='uniform')\n",
    "plt.imshow(given_lbp,cmap='gray')"
   ]
  },
  {
   "cell_type": "code",
   "execution_count": null,
   "id": "246d02f4",
   "metadata": {},
   "outputs": [],
   "source": [
    "plt.imshow(lbpgrid,cmap='gray')"
   ]
  },
  {
   "cell_type": "code",
   "execution_count": null,
   "id": "617a1694",
   "metadata": {},
   "outputs": [],
   "source": [
    "part=4\n",
    "seg_width=int(200/part)\n",
    "seg_height=int(200/part)\n",
    "x_training_self=[]\n",
    "for height in range(part):\n",
    "    h_start=height*seg_height\n",
    "    for width in range(part):\n",
    "        w_start=width*seg_width\n",
    "        lbp_seg=lbpgrid[h_start:(h_start+seg_height),w_start:(w_start+seg_width)]\n",
    "        hist_seg=make_histogram(lbp_seg,height=seg_height,width=seg_width)\n",
    "        plt.hist(hist_seg,bins=256)\n",
    "        plt.show()"
   ]
  },
  {
   "cell_type": "code",
   "execution_count": null,
   "id": "6fcb99fc",
   "metadata": {},
   "outputs": [],
   "source": [
    "x_training_self=[]\n",
    "part=8\n",
    "seg_width=int(200/part)\n",
    "seg_height=int(200/part)\n",
    "for i in range(len(x_training)):\n",
    "    image=x_training[i]\n",
    "    lbpgrid=getLBPGrid(image,width=200,height=200)\n",
    "    x_training_self.append([])\n",
    "    \n",
    "    for height in range(part):\n",
    "        h_start=height*seg_height\n",
    "        for width in range(part):\n",
    "            w_start=width*seg_width\n",
    "            lbp_seg=lbpgrid[h_start:(h_start+seg_height),w_start:(w_start+seg_width)]\n",
    "            hist_seg=make_histogram(lbp_seg,height=seg_height,width=seg_width)\n",
    "            x_training_self[i].append(hist_seg)\n",
    "            pass\n",
    "        pass\n",
    "    pass\n",
    "x_training_self"
   ]
  },
  {
   "cell_type": "code",
   "execution_count": null,
   "id": "d05dd31a",
   "metadata": {},
   "outputs": [],
   "source": []
  }
 ],
 "metadata": {
  "kernelspec": {
   "display_name": "Python 3",
   "language": "python",
   "name": "python3"
  },
  "language_info": {
   "codemirror_mode": {
    "name": "ipython",
    "version": 3
   },
   "file_extension": ".py",
   "mimetype": "text/x-python",
   "name": "python",
   "nbconvert_exporter": "python",
   "pygments_lexer": "ipython3",
   "version": "3.8.8"
  }
 },
 "nbformat": 4,
 "nbformat_minor": 5
}
